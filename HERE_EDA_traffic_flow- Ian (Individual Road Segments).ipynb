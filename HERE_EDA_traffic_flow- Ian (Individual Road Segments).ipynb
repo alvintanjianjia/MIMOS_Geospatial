{
 "cells": [
  {
   "cell_type": "code",
   "execution_count": null,
   "metadata": {},
   "outputs": [],
   "source": [
    "import pandas as pd\n",
    "import json\n",
    "import geopandas as gpd\n",
    "import os\n",
    "%matplotlib inline\n",
    "import geohash\n",
    "import geopandas as gp\n",
    "import pandas as pd\n",
    "import math\n",
    "import geojson\n",
    "from geojson import MultiLineString\n",
    "from shapely.geometry import MultiLineString\n",
    "from shapely.geometry import MultiPoint\n",
    "import numpy as np\n",
    "from shapely import geometry\n",
    "from shapely.geometry import Point, Polygon, box,LineString\n",
    "from geopandas import datasets, GeoDataFrame, read_file\n",
    "from geopandas.tools import overlay\n",
    "from matplotlib import pyplot\n",
    "import matplotlib.pyplot as plt\n",
    "from shapely.geometry.polygon import LinearRing, Polygon\n",
    "from numpy import cos,sin,arccos\n",
    "import numpy as np\n",
    "from pylab import *\n",
    "from shapely.ops import cascaded_union\n",
    "from shapely.geometry import Point, LineString, mapping\n",
    "import scipy.interpolate\n",
    "import geopy\n",
    "import geopy.distance\n",
    "import time\n",
    "import csv\n",
    "\n",
    "import networkx as nx"
   ]
  },
  {
   "cell_type": "code",
   "execution_count": null,
   "metadata": {},
   "outputs": [],
   "source": [
    "main_arr = []\n",
    "f_csv = open('D:/Datasets/MIMOS/traffic_flow_26082020.csv', 'w')\n",
    "with f_csv:\n",
    "    writer = csv.writer(f_csv)\n",
    "\n",
    "    with open('D:/Datasets/MIMOS/traffic_flow_26082020.json') as f:\n",
    "        here_traffic_flow = f.readlines()\n",
    "        for line in here_traffic_flow:\n",
    "\n",
    "\n",
    "            line = json.loads(line)\n",
    "            line = line['_source']\n",
    "            #print(line)\n",
    "            for flow_item_s in line['FIS']:\n",
    "                for flow_item in flow_item_s['FI']:\n",
    "                    #print(flow_item)\n",
    "                    temp_arr = []\n",
    "                    for tmc_item in flow_item['TMC']:\n",
    "                        #print(flow_item['TMC'][tmc_item])\n",
    "                        temp_arr.append(flow_item['TMC'][tmc_item])\n",
    "\n",
    "                    ## To get SHP\n",
    "                    #shp_values = flow_item['SHP'][0]['value'][0]\n",
    "\n",
    "                    arr_lon = []\n",
    "                    arr_lat = []\n",
    "\n",
    "                    fc_temp = flow_item['SHP'][0]['FC']\n",
    "\n",
    "                    for shp in flow_item['SHP']:\n",
    "                        temp_arr2 = temp_arr.copy()\n",
    "                        shp_values = shp['value'][0]\n",
    "                        coordinates_arr = shp_values.split(' ')\n",
    "                        #print(coordinates_arr)\n",
    "\n",
    "                        for item in coordinates_arr:\n",
    "                            if len(item) > 0:\n",
    "                                item = item.split(',')\n",
    "                                arr_lat.append(float(item[0]))\n",
    "                                arr_lon.append(float(item[1]))\n",
    "\n",
    "                        #if fc_temp != shp['FC']:\n",
    "                            #print(fc_temp, shp['FC'])\n",
    "                            #print(line['PBT'])\n",
    "                            #print(line['DE'])\n",
    "                            #print('FC Diff')\n",
    "\n",
    "                        polygon_geom = LineString(zip(arr_lon, arr_lat))\n",
    "                        #temp_arr.append(flow_item['SHP'][0]['value'])\n",
    "                        temp_arr2.append(polygon_geom)\n",
    "\n",
    "                        temp_arr2.append(shp['FC'])\n",
    "\n",
    "                        for cf_item in flow_item['CF'][0]:   \n",
    "                            temp_arr2.append(flow_item['CF'][0][cf_item])\n",
    "\n",
    "                        temp_arr2.append(line['PBT'])\n",
    "                        temp_arr2.append(line['DE'])\n",
    "                        temp_arr2.append(line['mid'])\n",
    "                        temp_arr2.append(line['LI'])\n",
    "                        temp_arr2.append(line['unique_id'])\n",
    "                        #print(temp_arr2)\n",
    "                        writer.writerow(temp_arr2)\n",
    "                        #print(len(temp_arr2))\n",
    "                        #print(temp_arr2)\n",
    "                        #if len(temp_arr2) == 17:\n",
    "                            #main_arr.append(temp_arr2)"
   ]
  },
  {
   "cell_type": "code",
   "execution_count": null,
   "metadata": {},
   "outputs": [],
   "source": [
    "here_traffic_flow_df = pd.DataFrame(main_arr)"
   ]
  },
  {
   "cell_type": "code",
   "execution_count": null,
   "metadata": {},
   "outputs": [],
   "source": [
    "here_traffic_flow_df.columns = ['TMC_PC', 'TMC_DE', 'TMC_QD', 'TMC_LE',\n",
    "                            'Geometry', 'FC',\n",
    "                               'CF_TY', 'CF_SP', 'CF_SU', 'CF_FF', 'CF_JF', 'CF_CN',\n",
    "                               'PBT', 'DE', 'mid', 'LI', 'timestamp']\n",
    "\n"
   ]
  },
  {
   "cell_type": "code",
   "execution_count": null,
   "metadata": {},
   "outputs": [],
   "source": [
    "here_traffic_flow_df.tail()"
   ]
  },
  {
   "cell_type": "code",
   "execution_count": null,
   "metadata": {},
   "outputs": [],
   "source": [
    "print(len(here_traffic_flow_df))"
   ]
  },
  {
   "cell_type": "code",
   "execution_count": null,
   "metadata": {},
   "outputs": [],
   "source": [
    "here_traffic_flow_gdf = gpd.GeoDataFrame(here_traffic_flow_df, geometry='Geometry')"
   ]
  },
  {
   "cell_type": "code",
   "execution_count": null,
   "metadata": {},
   "outputs": [],
   "source": [
    "pwd = 'C:\\\\Users\\\\tanji\\\\Desktop\\\\MIMOS_Geospatial'\n",
    "try:\n",
    "    os.mkdir('traffic_flow/traffic_flow_26082020')\n",
    "except:\n",
    "    pass\n",
    "#os.mkdir(pwd + '/traffic_flow/traffic_flow_26082020/')\n",
    "here_traffic_flow_gdf.to_file('traffic_flow/traffic_flow_26082020/Traffic_Incident.shp')"
   ]
  },
  {
   "cell_type": "code",
   "execution_count": null,
   "metadata": {},
   "outputs": [],
   "source": [
    "pwd"
   ]
  },
  {
   "cell_type": "code",
   "execution_count": null,
   "metadata": {},
   "outputs": [],
   "source": [
    "here_traffic_flow_df.to_csv('traffic_flow.csv', index=False)"
   ]
  }
 ],
 "metadata": {
  "kernelspec": {
   "display_name": "Python 3",
   "language": "python",
   "name": "python3"
  },
  "language_info": {
   "codemirror_mode": {
    "name": "ipython",
    "version": 3
   },
   "file_extension": ".py",
   "mimetype": "text/x-python",
   "name": "python",
   "nbconvert_exporter": "python",
   "pygments_lexer": "ipython3",
   "version": "3.7.3"
  }
 },
 "nbformat": 4,
 "nbformat_minor": 4
}
