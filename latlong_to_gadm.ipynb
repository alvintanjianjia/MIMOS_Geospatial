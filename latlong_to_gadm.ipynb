{
 "cells": [
  {
   "cell_type": "code",
   "execution_count": 6,
   "metadata": {},
   "outputs": [],
   "source": [
    "import geopandas as gpd\n",
    "import geohash\n",
    "import pandas as pd\n",
    "import numpy as np\n",
    "import fiona\n",
    "import json\n",
    "import shapely\n",
    "import shapely.geometry\n",
    "from shapely.geometry import Point\n",
    "from osgeo import ogr\n",
    "import requests\n",
    "import psycopg2\n",
    "from sqlalchemy import create_engine\n",
    "import psycopg2\n",
    "from sqlalchemy import create_engine\n"
   ]
  },
  {
   "cell_type": "code",
   "execution_count": 10,
   "metadata": {},
   "outputs": [],
   "source": [
    "test = (3.0876767, 101.5458488)\n",
    "long1 = 101.5458488\n",
    "lat1 = 3.0876767"
   ]
  },
  {
   "cell_type": "code",
   "execution_count": 19,
   "metadata": {},
   "outputs": [],
   "source": [
    "gadm_0 = gpd.GeoDataFrame.from_file('D:\\Datasets\\GeoSpatial\\gadm_data/gadm36_MYS_0.shp')\n",
    "gadm_1 = gpd.GeoDataFrame.from_file('D:\\Datasets\\GeoSpatial\\gadm_data/gadm36_MYS_1.shp')\n",
    "gadm_2 = gpd.GeoDataFrame.from_file('D:\\Datasets\\GeoSpatial\\gadm_data/gadm36_MYS_2.shp')"
   ]
  },
  {
   "cell_type": "markdown",
   "metadata": {},
   "source": [
    "### DataFrame already initialized"
   ]
  },
  {
   "cell_type": "code",
   "execution_count": 24,
   "metadata": {},
   "outputs": [
    {
     "name": "stdout",
     "output_type": "stream",
     "text": [
      "Malaysia\n",
      "Selangor\n",
      "Petaling\n"
     ]
    },
    {
     "name": "stderr",
     "output_type": "stream",
     "text": [
      "IOPub data rate exceeded.\n",
      "The notebook server will temporarily stop sending output\n",
      "to the client in order to avoid crashing it.\n",
      "To change this limit, set the config variable\n",
      "`--NotebookApp.iopub_data_rate_limit`.\n",
      "\n",
      "Current values:\n",
      "NotebookApp.iopub_data_rate_limit=1000000.0 (bytes/sec)\n",
      "NotebookApp.rate_limit_window=3.0 (secs)\n",
      "\n"
     ]
    }
   ],
   "source": [
    "def latlong_to_country(lat1, long1):\n",
    "    for index, gadm in gadm_0.iterrows():\n",
    "        if gadm['geometry'].intersects(Point(long1, lat1)):\n",
    "            return(gadm['NAME_0'])\n",
    "        \n",
    "def latlong_to_state(lat1, long1):\n",
    "    for index, gadm in gadm_1.iterrows():\n",
    "        if gadm['geometry'].intersects(Point(long1, lat1)):\n",
    "            return(gadm['NAME_1'])\n",
    "        \n",
    "def latlong_to_district(lat1, long1):\n",
    "    for index, gadm in gadm_2.iterrows():\n",
    "        if gadm['geometry'].intersects(Point(long1, lat1)):\n",
    "            return(gadm['NAME_2'])\n",
    "        \n",
    "def latlong_to_country_polygon(lat1, long1):\n",
    "    for index, gadm in gadm_0.iterrows():\n",
    "        if gadm['geometry'].intersects(Point(long1, lat1)):\n",
    "            return(gadm['geometry'])\n",
    "        \n",
    "def latlong_to_state_polygon(lat1, long1):\n",
    "    for index, gadm in gadm_1.iterrows():\n",
    "        if gadm['geometry'].intersects(Point(long1, lat1)):\n",
    "            return(gadm['geometry'])\n",
    "        \n",
    "def latlong_to_district_polygon(lat1, long1):\n",
    "    for index, gadm in gadm_2.iterrows():\n",
    "        if gadm['geometry'].intersects(Point(long1, lat1)):\n",
    "            return(gadm['geometry'])\n",
    "    \n",
    "    \n",
    "print(latlong_to_country(lat1, long1))\n",
    "print(latlong_to_state(lat1, long1))\n",
    "print(latlong_to_district(lat1, long1))\n",
    "\n",
    "print(latlong_to_country_polygon(lat1, long1))\n",
    "print(latlong_to_state_polygon(lat1, long1))\n",
    "print(latlong_to_district_polygon(lat1, long1))"
   ]
  },
  {
   "cell_type": "markdown",
   "metadata": {},
   "source": [
    "### Dataframe initialize within function. (Self contained function)"
   ]
  },
  {
   "cell_type": "code",
   "execution_count": 27,
   "metadata": {},
   "outputs": [
    {
     "name": "stdout",
     "output_type": "stream",
     "text": [
      "Malaysia\n",
      "Selangor\n",
      "Petaling\n"
     ]
    },
    {
     "name": "stderr",
     "output_type": "stream",
     "text": [
      "IOPub data rate exceeded.\n",
      "The notebook server will temporarily stop sending output\n",
      "to the client in order to avoid crashing it.\n",
      "To change this limit, set the config variable\n",
      "`--NotebookApp.iopub_data_rate_limit`.\n",
      "\n",
      "Current values:\n",
      "NotebookApp.iopub_data_rate_limit=1000000.0 (bytes/sec)\n",
      "NotebookApp.rate_limit_window=3.0 (secs)\n",
      "\n"
     ]
    }
   ],
   "source": [
    "def latlong_to_country(lat1, long1, path):\n",
    "    gadm_0 = gpd.GeoDataFrame.from_file(path)\n",
    "    for index, gadm in gadm_0.iterrows():\n",
    "        if gadm['geometry'].intersects(Point(long1, lat1)):\n",
    "            return(gadm['NAME_0'])\n",
    "        \n",
    "def latlong_to_state(lat1, long1, path):\n",
    "    gadm_1 = gpd.GeoDataFrame.from_file(path)\n",
    "    for index, gadm in gadm_1.iterrows():\n",
    "        if gadm['geometry'].intersects(Point(long1, lat1)):\n",
    "            return(gadm['NAME_1'])\n",
    "        \n",
    "def latlong_to_district(lat1, long1, path):\n",
    "    gadm_2 = gpd.GeoDataFrame.from_file(path)\n",
    "    for index, gadm in gadm_2.iterrows():\n",
    "        if gadm['geometry'].intersects(Point(long1, lat1)):\n",
    "            return(gadm['NAME_2'])\n",
    "        \n",
    "def latlong_to_country_polygon(lat1, long1, path):\n",
    "    gadm_0 = gpd.GeoDataFrame.from_file(path)\n",
    "    for index, gadm in gadm_0.iterrows():\n",
    "        if gadm['geometry'].intersects(Point(long1, lat1)):\n",
    "            return(gadm['geometry'])\n",
    "        \n",
    "def latlong_to_state_polygon(lat1, long1, path):\n",
    "    gadm_1 = gpd.GeoDataFrame.from_file(path)\n",
    "    for index, gadm in gadm_1.iterrows():\n",
    "        if gadm['geometry'].intersects(Point(long1, lat1)):\n",
    "            return(gadm['geometry'])\n",
    "        \n",
    "def latlong_to_district_polygon(lat1, long1, path):\n",
    "    gadm_2 = gpd.GeoDataFrame.from_file(path)\n",
    "    for index, gadm in gadm_2.iterrows():\n",
    "        if gadm['geometry'].intersects(Point(long1, lat1)):\n",
    "            return(gadm['geometry'])\n",
    "    \n",
    "    \n",
    "print(latlong_to_country(lat1, long1, 'D:\\Datasets\\GeoSpatial\\gadm_data/gadm36_MYS_0.shp'))\n",
    "print(latlong_to_state(lat1, long1, 'D:\\Datasets\\GeoSpatial\\gadm_data/gadm36_MYS_1.shp'))\n",
    "print(latlong_to_district(lat1, long1, 'D:\\Datasets\\GeoSpatial\\gadm_data/gadm36_MYS_2.shp'))\n",
    "\n",
    "print(latlong_to_country_polygon(lat1, long1, 'D:\\Datasets\\GeoSpatial\\gadm_data/gadm36_MYS_0.shp'))\n",
    "print(latlong_to_state_polygon(lat1, long1, 'D:\\Datasets\\GeoSpatial\\gadm_data/gadm36_MYS_1.shp'))\n",
    "print(latlong_to_district_polygon(lat1, long1, 'D:\\Datasets\\GeoSpatial\\gadm_data/gadm36_MYS_2.shp'))"
   ]
  },
  {
   "cell_type": "code",
   "execution_count": 14,
   "metadata": {},
   "outputs": [
    {
     "data": {
      "text/html": [
       "<div>\n",
       "<style scoped>\n",
       "    .dataframe tbody tr th:only-of-type {\n",
       "        vertical-align: middle;\n",
       "    }\n",
       "\n",
       "    .dataframe tbody tr th {\n",
       "        vertical-align: top;\n",
       "    }\n",
       "\n",
       "    .dataframe thead th {\n",
       "        text-align: right;\n",
       "    }\n",
       "</style>\n",
       "<table border=\"1\" class=\"dataframe\">\n",
       "  <thead>\n",
       "    <tr style=\"text-align: right;\">\n",
       "      <th></th>\n",
       "      <th>GID_0</th>\n",
       "      <th>NAME_0</th>\n",
       "      <th>GID_1</th>\n",
       "      <th>NAME_1</th>\n",
       "      <th>VARNAME_1</th>\n",
       "      <th>NL_NAME_1</th>\n",
       "      <th>TYPE_1</th>\n",
       "      <th>ENGTYPE_1</th>\n",
       "      <th>CC_1</th>\n",
       "      <th>HASC_1</th>\n",
       "      <th>geometry</th>\n",
       "    </tr>\n",
       "  </thead>\n",
       "  <tbody>\n",
       "    <tr>\n",
       "      <th>0</th>\n",
       "      <td>MYS</td>\n",
       "      <td>Malaysia</td>\n",
       "      <td>MYS.1_1</td>\n",
       "      <td>Johor</td>\n",
       "      <td>Johor Darul Takzim|Johore</td>\n",
       "      <td>None</td>\n",
       "      <td>Negeri</td>\n",
       "      <td>State</td>\n",
       "      <td>None</td>\n",
       "      <td>MY.JH</td>\n",
       "      <td>MULTIPOLYGON (((104.11916 1.92278, 104.11806 1...</td>\n",
       "    </tr>\n",
       "    <tr>\n",
       "      <th>1</th>\n",
       "      <td>MYS</td>\n",
       "      <td>Malaysia</td>\n",
       "      <td>MYS.2_1</td>\n",
       "      <td>Kedah</td>\n",
       "      <td>Kedah Darul Aman</td>\n",
       "      <td>None</td>\n",
       "      <td>Negeri</td>\n",
       "      <td>State</td>\n",
       "      <td>None</td>\n",
       "      <td>MY.KH</td>\n",
       "      <td>MULTIPOLYGON (((100.32889 5.66444, 100.32917 5...</td>\n",
       "    </tr>\n",
       "    <tr>\n",
       "      <th>2</th>\n",
       "      <td>MYS</td>\n",
       "      <td>Malaysia</td>\n",
       "      <td>MYS.3_1</td>\n",
       "      <td>Kelantan</td>\n",
       "      <td>&lt;Null&gt;</td>\n",
       "      <td>None</td>\n",
       "      <td>Negeri</td>\n",
       "      <td>State</td>\n",
       "      <td>None</td>\n",
       "      <td>MY.KN</td>\n",
       "      <td>MULTIPOLYGON (((102.17395 6.20126, 102.17395 6...</td>\n",
       "    </tr>\n",
       "    <tr>\n",
       "      <th>3</th>\n",
       "      <td>MYS</td>\n",
       "      <td>Malaysia</td>\n",
       "      <td>MYS.4_1</td>\n",
       "      <td>Kuala Lumpur</td>\n",
       "      <td>Federal Territory of Kuala Lumpur</td>\n",
       "      <td>None</td>\n",
       "      <td>Wilayah Persekutuan</td>\n",
       "      <td>Federal Territory</td>\n",
       "      <td>None</td>\n",
       "      <td>MY.KL</td>\n",
       "      <td>POLYGON ((101.73227 3.03781, 101.70284 3.03007...</td>\n",
       "    </tr>\n",
       "    <tr>\n",
       "      <th>4</th>\n",
       "      <td>MYS</td>\n",
       "      <td>Malaysia</td>\n",
       "      <td>MYS.5_1</td>\n",
       "      <td>Labuan</td>\n",
       "      <td>Federal Territory of Labuan</td>\n",
       "      <td>None</td>\n",
       "      <td>Wilayah Persekutuan</td>\n",
       "      <td>Federal Territory</td>\n",
       "      <td>None</td>\n",
       "      <td>MY.LA</td>\n",
       "      <td>MULTIPOLYGON (((115.14328 5.18610, 115.13979 5...</td>\n",
       "    </tr>\n",
       "  </tbody>\n",
       "</table>\n",
       "</div>"
      ],
      "text/plain": [
       "  GID_0    NAME_0    GID_1        NAME_1                          VARNAME_1  \\\n",
       "0   MYS  Malaysia  MYS.1_1         Johor          Johor Darul Takzim|Johore   \n",
       "1   MYS  Malaysia  MYS.2_1         Kedah                   Kedah Darul Aman   \n",
       "2   MYS  Malaysia  MYS.3_1      Kelantan                             <Null>   \n",
       "3   MYS  Malaysia  MYS.4_1  Kuala Lumpur  Federal Territory of Kuala Lumpur   \n",
       "4   MYS  Malaysia  MYS.5_1        Labuan        Federal Territory of Labuan   \n",
       "\n",
       "  NL_NAME_1               TYPE_1          ENGTYPE_1  CC_1 HASC_1  \\\n",
       "0      None               Negeri              State  None  MY.JH   \n",
       "1      None               Negeri              State  None  MY.KH   \n",
       "2      None               Negeri              State  None  MY.KN   \n",
       "3      None  Wilayah Persekutuan  Federal Territory  None  MY.KL   \n",
       "4      None  Wilayah Persekutuan  Federal Territory  None  MY.LA   \n",
       "\n",
       "                                            geometry  \n",
       "0  MULTIPOLYGON (((104.11916 1.92278, 104.11806 1...  \n",
       "1  MULTIPOLYGON (((100.32889 5.66444, 100.32917 5...  \n",
       "2  MULTIPOLYGON (((102.17395 6.20126, 102.17395 6...  \n",
       "3  POLYGON ((101.73227 3.03781, 101.70284 3.03007...  \n",
       "4  MULTIPOLYGON (((115.14328 5.18610, 115.13979 5...  "
      ]
     },
     "execution_count": 14,
     "metadata": {},
     "output_type": "execute_result"
    }
   ],
   "source": [
    "gadm_1.head()"
   ]
  },
  {
   "cell_type": "code",
   "execution_count": 15,
   "metadata": {},
   "outputs": [
    {
     "data": {
      "text/html": [
       "<div>\n",
       "<style scoped>\n",
       "    .dataframe tbody tr th:only-of-type {\n",
       "        vertical-align: middle;\n",
       "    }\n",
       "\n",
       "    .dataframe tbody tr th {\n",
       "        vertical-align: top;\n",
       "    }\n",
       "\n",
       "    .dataframe thead th {\n",
       "        text-align: right;\n",
       "    }\n",
       "</style>\n",
       "<table border=\"1\" class=\"dataframe\">\n",
       "  <thead>\n",
       "    <tr style=\"text-align: right;\">\n",
       "      <th></th>\n",
       "      <th>GID_0</th>\n",
       "      <th>NAME_0</th>\n",
       "      <th>GID_1</th>\n",
       "      <th>NAME_1</th>\n",
       "      <th>NL_NAME_1</th>\n",
       "      <th>GID_2</th>\n",
       "      <th>NAME_2</th>\n",
       "      <th>VARNAME_2</th>\n",
       "      <th>NL_NAME_2</th>\n",
       "      <th>TYPE_2</th>\n",
       "      <th>ENGTYPE_2</th>\n",
       "      <th>CC_2</th>\n",
       "      <th>HASC_2</th>\n",
       "      <th>geometry</th>\n",
       "    </tr>\n",
       "  </thead>\n",
       "  <tbody>\n",
       "    <tr>\n",
       "      <th>0</th>\n",
       "      <td>MYS</td>\n",
       "      <td>Malaysia</td>\n",
       "      <td>MYS.1_1</td>\n",
       "      <td>Johor</td>\n",
       "      <td>None</td>\n",
       "      <td>MYS.1.1_1</td>\n",
       "      <td>Batu Pahat</td>\n",
       "      <td>None</td>\n",
       "      <td>None</td>\n",
       "      <td>Daerah</td>\n",
       "      <td>District</td>\n",
       "      <td>None</td>\n",
       "      <td>MY.JH.BP</td>\n",
       "      <td>POLYGON ((103.00595 1.73628, 103.00550 1.73682...</td>\n",
       "    </tr>\n",
       "    <tr>\n",
       "      <th>1</th>\n",
       "      <td>MYS</td>\n",
       "      <td>Malaysia</td>\n",
       "      <td>MYS.1_1</td>\n",
       "      <td>Johor</td>\n",
       "      <td>None</td>\n",
       "      <td>MYS.1.2_1</td>\n",
       "      <td>Johor Baharu</td>\n",
       "      <td>Johor Bahru</td>\n",
       "      <td>None</td>\n",
       "      <td>Daerah</td>\n",
       "      <td>District</td>\n",
       "      <td>None</td>\n",
       "      <td>MY.JH.JH</td>\n",
       "      <td>POLYGON ((103.98490 1.43269, 103.98450 1.43238...</td>\n",
       "    </tr>\n",
       "    <tr>\n",
       "      <th>2</th>\n",
       "      <td>MYS</td>\n",
       "      <td>Malaysia</td>\n",
       "      <td>MYS.1_1</td>\n",
       "      <td>Johor</td>\n",
       "      <td>None</td>\n",
       "      <td>MYS.1.3_1</td>\n",
       "      <td>Keluang</td>\n",
       "      <td>Kluang</td>\n",
       "      <td>None</td>\n",
       "      <td>Daerah</td>\n",
       "      <td>District</td>\n",
       "      <td>None</td>\n",
       "      <td>MY.JH.KE</td>\n",
       "      <td>POLYGON ((103.10678 2.16620, 103.10850 2.16923...</td>\n",
       "    </tr>\n",
       "    <tr>\n",
       "      <th>3</th>\n",
       "      <td>MYS</td>\n",
       "      <td>Malaysia</td>\n",
       "      <td>MYS.1_1</td>\n",
       "      <td>Johor</td>\n",
       "      <td>None</td>\n",
       "      <td>MYS.1.4_1</td>\n",
       "      <td>Kota Tinggi</td>\n",
       "      <td>None</td>\n",
       "      <td>None</td>\n",
       "      <td>Daerah</td>\n",
       "      <td>District</td>\n",
       "      <td>None</td>\n",
       "      <td>MY.JH.KT</td>\n",
       "      <td>MULTIPOLYGON (((104.05722 1.53083, 104.05750 1...</td>\n",
       "    </tr>\n",
       "    <tr>\n",
       "      <th>4</th>\n",
       "      <td>MYS</td>\n",
       "      <td>Malaysia</td>\n",
       "      <td>MYS.1_1</td>\n",
       "      <td>Johor</td>\n",
       "      <td>None</td>\n",
       "      <td>MYS.1.5_1</td>\n",
       "      <td>Kulaijaya</td>\n",
       "      <td>None</td>\n",
       "      <td>None</td>\n",
       "      <td>Daerah</td>\n",
       "      <td>District</td>\n",
       "      <td>None</td>\n",
       "      <td>MY.JH.KU</td>\n",
       "      <td>MULTIPOLYGON (((103.55091 1.52211, 103.54640 1...</td>\n",
       "    </tr>\n",
       "  </tbody>\n",
       "</table>\n",
       "</div>"
      ],
      "text/plain": [
       "  GID_0    NAME_0    GID_1 NAME_1 NL_NAME_1      GID_2        NAME_2  \\\n",
       "0   MYS  Malaysia  MYS.1_1  Johor      None  MYS.1.1_1    Batu Pahat   \n",
       "1   MYS  Malaysia  MYS.1_1  Johor      None  MYS.1.2_1  Johor Baharu   \n",
       "2   MYS  Malaysia  MYS.1_1  Johor      None  MYS.1.3_1       Keluang   \n",
       "3   MYS  Malaysia  MYS.1_1  Johor      None  MYS.1.4_1   Kota Tinggi   \n",
       "4   MYS  Malaysia  MYS.1_1  Johor      None  MYS.1.5_1     Kulaijaya   \n",
       "\n",
       "     VARNAME_2 NL_NAME_2  TYPE_2 ENGTYPE_2  CC_2    HASC_2  \\\n",
       "0         None      None  Daerah  District  None  MY.JH.BP   \n",
       "1  Johor Bahru      None  Daerah  District  None  MY.JH.JH   \n",
       "2       Kluang      None  Daerah  District  None  MY.JH.KE   \n",
       "3         None      None  Daerah  District  None  MY.JH.KT   \n",
       "4         None      None  Daerah  District  None  MY.JH.KU   \n",
       "\n",
       "                                            geometry  \n",
       "0  POLYGON ((103.00595 1.73628, 103.00550 1.73682...  \n",
       "1  POLYGON ((103.98490 1.43269, 103.98450 1.43238...  \n",
       "2  POLYGON ((103.10678 2.16620, 103.10850 2.16923...  \n",
       "3  MULTIPOLYGON (((104.05722 1.53083, 104.05750 1...  \n",
       "4  MULTIPOLYGON (((103.55091 1.52211, 103.54640 1...  "
      ]
     },
     "execution_count": 15,
     "metadata": {},
     "output_type": "execute_result"
    }
   ],
   "source": [
    "gadm_2.head()"
   ]
  },
  {
   "cell_type": "code",
   "execution_count": 16,
   "metadata": {},
   "outputs": [
    {
     "name": "stdout",
     "output_type": "stream",
     "text": [
      "Malaysia\n"
     ]
    }
   ],
   "source": [
    "for index, gadm in gadm_2.iterrows():\n",
    "    if gadm['geometry'].intersects(Point(long1, lat1)):\n",
    "        print(gadm['NAME_0'])"
   ]
  },
  {
   "cell_type": "code",
   "execution_count": 17,
   "metadata": {},
   "outputs": [
    {
     "name": "stdout",
     "output_type": "stream",
     "text": [
      "Selangor\n"
     ]
    }
   ],
   "source": [
    "for index, gadm in gadm_2.iterrows():\n",
    "    if gadm['geometry'].intersects(Point(long1, lat1)):\n",
    "        print(gadm['NAME_1'])"
   ]
  },
  {
   "cell_type": "code",
   "execution_count": 18,
   "metadata": {},
   "outputs": [
    {
     "name": "stdout",
     "output_type": "stream",
     "text": [
      "Petaling\n"
     ]
    }
   ],
   "source": [
    "for index, gadm in gadm_2.iterrows():\n",
    "    if gadm['geometry'].intersects(Point(long1, lat1)):\n",
    "        print(gadm['NAME_2'])"
   ]
  },
  {
   "cell_type": "code",
   "execution_count": null,
   "metadata": {},
   "outputs": [],
   "source": []
  }
 ],
 "metadata": {
  "kernelspec": {
   "display_name": "Python 3",
   "language": "python",
   "name": "python3"
  },
  "language_info": {
   "codemirror_mode": {
    "name": "ipython",
    "version": 3
   },
   "file_extension": ".py",
   "mimetype": "text/x-python",
   "name": "python",
   "nbconvert_exporter": "python",
   "pygments_lexer": "ipython3",
   "version": "3.7.3"
  }
 },
 "nbformat": 4,
 "nbformat_minor": 2
}
