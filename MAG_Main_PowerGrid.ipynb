{
 "cells": [
  {
   "cell_type": "code",
   "execution_count": 1,
   "metadata": {},
   "outputs": [],
   "source": [
    "\"\"\"\n",
    "Imports\n",
    "The core\n",
    "\"\"\"\n",
    "import MAG_Util as MAG_Util\n",
    "import MAG_Manager_Dataframe as MAG_Manager_Dataframe\n",
    "import MAG_Graph_Layered as MAG_Graph_Layered\n"
   ]
  },
  {
   "cell_type": "markdown",
   "metadata": {},
   "source": [
    "Generate the sample graph for power grid"
   ]
  },
  {
   "cell_type": "code",
   "execution_count": 2,
   "metadata": {},
   "outputs": [],
   "source": [
    "\"\"\"\n",
    "Generate the random graph for a power grid system\n",
    "If power is sent from pointA to pointB then\n",
    "- u = pointA\n",
    "- v = pointB\n",
    "- w = cost (such as power loss)\n",
    "\"\"\"\n",
    "\n",
    "# generate the graph as a random one\n",
    "import Generator_Graph as Generator_Graph\n",
    "current_edges_citations = Generator_Graph.generated_graph_simple(\n",
    "    argv_count_vertices=100,\n",
    "    argv_count_edges=300,\n",
    "    argv_flag_directed=True,\n",
    "    argv_weight_type=\"random\",\n",
    "    argv_weight_range=[1,100],\n",
    "    argv_random_seed=888\n",
    "    )\n",
    "\n",
    "# have it output into a file\n",
    "filename_graph = \"Sample_PowerGrid.csv\"\n",
    "file_graph = open(filename_graph, \"w+\")\n",
    "# header\n",
    "file_graph.write(\"source,destination,cost\")\n",
    "file_graph.write(\"\\n\")\n",
    "# add in the rows 1 by 1\n",
    "for current_edge in current_edges_citations:\n",
    "    file_graph.write(current_edge + \"\\n\")\n",
    "file_graph.close()"
   ]
  },
  {
   "cell_type": "code",
   "execution_count": 3,
   "metadata": {},
   "outputs": [],
   "source": [
    "# the dataset filename\n",
    "dict_filenames_dataset = {}\n",
    "dict_filenames_dataset[\"PowerGrid\"] = \"Sample_PowerGrid.csv\"\n",
    "\n",
    "# manager_dataframe to load in the data\n",
    "manager_dataframe = MAG_Manager_Dataframe.Manager_Dataframe(argv_filename=dict_filenames_dataset)\n",
    "manager_dataframe.load_dataframes()"
   ]
  },
  {
   "cell_type": "code",
   "execution_count": 4,
   "metadata": {},
   "outputs": [],
   "source": [
    "# get the dataframe\n",
    "df_power = manager_dataframe.get_dataframe(argv_id=\"PowerGrid\")"
   ]
  },
  {
   "cell_type": "code",
   "execution_count": 5,
   "metadata": {},
   "outputs": [],
   "source": [
    "import cudf"
   ]
  },
  {
   "cell_type": "code",
   "execution_count": 6,
   "metadata": {},
   "outputs": [
    {
     "name": "stdout",
     "output_type": "stream",
     "text": [
      "     source  destination  cost\n",
      "295      51           65    79\n",
      "296      46           18    64\n",
      "297      53           12    19\n",
      "298      79           64    30\n",
      "299      40           42    45\n",
      "300      -1           10     0\n",
      "301      -1           20     0\n",
      "302      -1           30     0\n",
      "303      -1           40     0\n",
      "304      -1           50     0\n"
     ]
    }
   ],
   "source": [
    "# the generator IDs\n",
    "current_generator_IDs = [10,20,30,40,50]\n",
    "\n",
    "# create a new vertex as the source to these generators at a cost of 0\n",
    "# current_source_apex = max(df_power[\"source\"].max(),df_power[\"destination\"].max()) + 1\n",
    "current_source_apex = -1\n",
    "\n",
    "# create a quick dataframe for the additional edges\n",
    "temp_dict = {}\n",
    "temp_dict[\"source\"] = []\n",
    "temp_dict[\"destination\"] = []\n",
    "temp_dict[\"cost\"] = []\n",
    "for current_generator_ID in current_generator_IDs:\n",
    "    temp_dict[\"source\"].append(current_source_apex)\n",
    "    temp_dict[\"destination\"].append(current_generator_ID)\n",
    "    temp_dict[\"cost\"].append(0)\n",
    "temp_frame = cudf.DataFrame(temp_dict)\n",
    "# then concat it\n",
    "df_power = cudf.concat([df_power, temp_frame], ignore_index = True)\n",
    "    \n",
    "# get the head to check\n",
    "print(df_power.tail(10))"
   ]
  },
  {
   "cell_type": "markdown",
   "metadata": {},
   "source": [
    "With this, we now want to find the minimal cost from each generator to every possible point"
   ]
  },
  {
   "cell_type": "code",
   "execution_count": 7,
   "metadata": {},
   "outputs": [
    {
     "name": "stdout",
     "output_type": "stream",
     "text": [
      "{'min': 0, 'max': 100, 'mean': 51.501639344262294, 'median': 54, 'zero': 0}\n",
      "     distance vertex predecessor\n",
      "0       101.0     36           3\n",
      "1        92.0     37          13\n",
      "2        83.0     41          72\n",
      "3       100.0     43          24\n",
      "4       105.0     48          80\n",
      "..        ...    ...         ...\n",
      "96      103.0     39          87\n",
      "97      130.0     44          51\n",
      "98       98.0     47          81\n",
      "99      202.0     63          56\n",
      "100       0.0     -1          -1\n",
      "\n",
      "[101 rows x 3 columns]\n"
     ]
    }
   ],
   "source": [
    "# the variables\n",
    "colname_source = \"source\"\n",
    "colname_destination = \"destination\"\n",
    "colname_weight = \"cost\"\n",
    "\n",
    "# make the graph object\n",
    "current_graph = MAG_Graph_Layered.Graph_Layered(\n",
    "    argv_dataframe=df_power,\n",
    "    argv_source=colname_source, argv_destination=colname_destination, argv_weight=[colname_weight]\n",
    "    )\n",
    "# generate the graph\n",
    "current_graph.generate_graph()\n",
    "print(current_graph.get_stat_weights())\n",
    "\n",
    "# let say we want the relationship between these papers\n",
    "starting_point = current_source_apex\n",
    "\n",
    "# run dijkstra\n",
    "# without the end (single source only)\n",
    "table_pred_distance, timer_dijkstra = current_graph.run_dijsktra(\n",
    "    argv_start=str(starting_point), argv_path=False, argv_layer=False\n",
    "    )\n",
    "\n",
    "# print out the information\n",
    "print(table_pred_distance)"
   ]
  },
  {
   "cell_type": "code",
   "execution_count": null,
   "metadata": {},
   "outputs": [],
   "source": []
  }
 ],
 "metadata": {
  "interpreter": {
   "hash": "a121e108f47eee137944b3bb98e992849e3ce3855910ef7d08de8f1b80ab107e"
  },
  "kernelspec": {
   "display_name": "Python 3",
   "language": "python",
   "name": "python3"
  },
  "language_info": {
   "codemirror_mode": {
    "name": "ipython",
    "version": 3
   },
   "file_extension": ".py",
   "mimetype": "text/x-python",
   "name": "python",
   "nbconvert_exporter": "python",
   "pygments_lexer": "ipython3",
   "version": "3.8.6"
  }
 },
 "nbformat": 4,
 "nbformat_minor": 4
}
